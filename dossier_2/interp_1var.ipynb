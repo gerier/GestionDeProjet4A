{
 "cells": [
  {
   "cell_type": "code",
   "execution_count": 1,
   "metadata": {},
   "outputs": [],
   "source": [
    "from math import *\n",
    "import numpy as np\n",
    "import numpy.linalg as npl\n",
    "import matplotlib.pyplot as plt"
   ]
  },
  {
   "cell_type": "markdown",
   "metadata": {},
   "source": [
    "## Partie Algorithmie - argument x"
   ]
  },
  {
   "cell_type": "markdown",
   "metadata": {},
   "source": [
    "### Création du vecteur de départ"
   ]
  },
  {
   "cell_type": "markdown",
   "metadata": {},
   "source": [
    "page numéroté num 156"
   ]
  },
  {
   "cell_type": "code",
   "execution_count": 2,
   "metadata": {},
   "outputs": [],
   "source": [
    "def alp(p):\n",
    "    i = np.arange(p+1)\n",
    "    return (1/2) * (1 - np.cos( (2*i+1)*np.pi / (2*p+1)))"
   ]
  },
  {
   "cell_type": "code",
   "execution_count": 3,
   "metadata": {},
   "outputs": [],
   "source": [
    "def bet(p):\n",
    "    i = np.arange(p+1)\n",
    "    return (1/2) * (1 - np.cos( 2*i*np.pi / (2*p+1)))"
   ]
  },
  {
   "cell_type": "markdown",
   "metadata": {},
   "source": [
    "page numéroté num 157"
   ]
  },
  {
   "cell_type": "code",
   "execution_count": 4,
   "metadata": {},
   "outputs": [],
   "source": [
    "def start_point(p):\n",
    "    I = np.zeros((2*(p+1),1))\n",
    "    I[:p+1,0] = alp(p)\n",
    "    I[p+1:,0] = bet(p)\n",
    "    return I"
   ]
  },
  {
   "cell_type": "markdown",
   "metadata": {},
   "source": [
    "### Création de la Jacobienne"
   ]
  },
  {
   "cell_type": "markdown",
   "metadata": {},
   "source": [
    "page numéroté num 157 puis 163"
   ]
  },
  {
   "cell_type": "code",
   "execution_count": 5,
   "metadata": {},
   "outputs": [],
   "source": [
    "def a_prime_beta(p) : \n",
    "    #i verif\n",
    "    i = np.arange(0,p) + 1\n",
    "    #eta verif\n",
    "    eta = ((2*(p-i)+1)*np.pi) / (2*p+1)\n",
    "    \n",
    "    #left et right verif\n",
    "    left = (2*p*np.cos(p*eta)) / (np.cos(eta) + 1)\n",
    "    right = (np.sin(p*eta) / np.sin(eta)) * ( 2*p + 2/(np.cos(eta) + 1))\n",
    "    return left + right"
   ]
  },
  {
   "cell_type": "code",
   "execution_count": 6,
   "metadata": {},
   "outputs": [],
   "source": [
    "def b_prime_alpha(p) :\n",
    "    #i et teta vérif\n",
    "    i = np.arange(0,p)\n",
    "    teta = ( 2*(p-i)*np.pi) / (2*p+1)\n",
    "    \n",
    "    #left et right vérif\n",
    "    left = (2*p*np.cos(p*teta)) / (np.cos(teta) - 1)\n",
    "    right = (np.sin(p*teta) / np.sin(teta)) * ( 2*p - 2/(np.cos(teta) - 1))\n",
    "    return left + right"
   ]
  },
  {
   "cell_type": "code",
   "execution_count": 7,
   "metadata": {},
   "outputs": [],
   "source": [
    "def Jacobian_X0(p,h, x,function,eps) : \n",
    "    f = function(x,h)\n",
    "    f_max = np.max(f)\n",
    "    f_eps = max(f_max, eps)\n",
    "    I = np.zeros(2*p)\n",
    "\n",
    "    I[:p] = b_prime_alpha(p)\n",
    "    I[p:] = a_prime_beta(p)\n",
    "  \n",
    "    return np.sqrt(f_eps)*np.diag(I)"
   ]
  },
  {
   "cell_type": "markdown",
   "metadata": {},
   "source": [
    "### Création de l'interpolation a et b "
   ]
  },
  {
   "cell_type": "markdown",
   "metadata": {},
   "source": [
    "page numéroté num 155"
   ]
  },
  {
   "cell_type": "code",
   "execution_count": 8,
   "metadata": {},
   "outputs": [],
   "source": [
    "def a(x,alpha,h, p,function, eps):\n",
    "    res = 0\n",
    "    for i in range(p+1):\n",
    "        som = (-1)**(i+p)* np.sqrt(max(function(alpha[i],h),eps) / alpha[i])\n",
    "        mul = 1 \n",
    "        for j in range(p+1) :\n",
    "            if i != j :\n",
    "                mul = mul * ((x - alpha[j]) / (alpha[i] - alpha[j])) \n",
    "        som = som*mul\n",
    "        res += som\n",
    "    return res"
   ]
  },
  {
   "cell_type": "code",
   "execution_count": 9,
   "metadata": {},
   "outputs": [],
   "source": [
    "def b(x,beta,h,p, function,eps):\n",
    "    res = 0\n",
    "    for i in range(p+1) : \n",
    "        som = (-1)**(i+p) * sqrt(max(function(beta[i],h), eps) / ( 1 - beta[i]))\n",
    "        mul = 1 \n",
    "        for j in range(p+1) : \n",
    "            if i != j :\n",
    "                mul = mul * ((x - beta[j]) / (beta[i] - beta[j]))\n",
    "        som = som*mul\n",
    "        res += som\n",
    "    return res"
   ]
  },
  {
   "cell_type": "markdown",
   "metadata": {},
   "source": [
    "### Vecteur têta"
   ]
  },
  {
   "cell_type": "markdown",
   "metadata": {},
   "source": [
    "page numéroté num 155"
   ]
  },
  {
   "cell_type": "code",
   "execution_count": 10,
   "metadata": {},
   "outputs": [],
   "source": [
    "def teta_teta(x, h, p, function,eps) : \n",
    "    teta = np.zeros((2*p,1))\n",
    "    alpha = x[:p]\n",
    "    alpha_new = np.concatenate(( alpha, [[1]]))\n",
    "    beta = x[p:]\n",
    "    beta_new = np.concatenate(([[0]],beta))\n",
    "    \n",
    "    teta[:p] = b(alpha, beta_new, h, p, function,eps)\n",
    "    teta[p:] = a(beta, alpha_new, h, p, function, eps) \n",
    "    return teta "
   ]
  },
  {
   "cell_type": "markdown",
   "metadata": {},
   "source": [
    "### Splitting node "
   ]
  },
  {
   "cell_type": "raw",
   "metadata": {},
   "source": [
    "def S(X, eps) :\n",
    "    print(\"     entrée = \" ,X)\n",
    "    p = np.shape(X)[0]\n",
    "    \n",
    "    a_star = np.zeros((p,1))\n",
    "    for i in range(p):\n",
    "        a_star[i] = min(max(X[i],0),1)\n",
    "    a_new = np.zeros((p+2,1))\n",
    "    a_new[-1] = 1\n",
    "    a_new[1:-1] = a_star\n",
    "    print(\"   a_new = \",a_new)\n",
    "\n",
    "    delta = a_new[0:] - a_new[:p+2]\n",
    "    som = 0\n",
    "    delta_tild = np.zeros((p+1,1))\n",
    "    for i in range(p+1):\n",
    "        delta_tild[i] = (max(delta[i],2*eps))\n",
    "        som += max(delta[i],2*eps)\n",
    "    \n",
    "    delta_tild = delta_tild / som\n",
    "    \n",
    "    a_tild = np.zeros((p,1))\n",
    "    a_tild[0] = delta_tild[0]\n",
    "    for i in range(1,p):\n",
    "        a_tild[i] = delta_tild[i] + a_tild[i-1]\n",
    "    print(\"sortie = \",a_tild)\n",
    "    return a_tild"
   ]
  },
  {
   "cell_type": "markdown",
   "metadata": {},
   "source": [
    "### Algorithme Newton-Raphson"
   ]
  },
  {
   "cell_type": "markdown",
   "metadata": {},
   "source": [
    "page numéroté num 155"
   ]
  },
  {
   "cell_type": "code",
   "execution_count": 11,
   "metadata": {},
   "outputs": [],
   "source": [
    "def G_hat(x,h, p, function,eps) : \n",
    "    J = Jacobian_X0(p,h,x, function, eps)\n",
    "    tet = teta_teta(x, h, p, function,eps)\n",
    "    d = npl.solve(J,tet)\n",
    "    return x - d"
   ]
  },
  {
   "cell_type": "code",
   "execution_count": 12,
   "metadata": {},
   "outputs": [],
   "source": [
    "def Newton_Raphson(p,h ,function,eps=1e-12)  :\n",
    "    X0 = start_point(p)\n",
    "    X = np.concatenate((X0[:p], X0[p+2:]))\n",
    "    X_past = X + 2*eps\n",
    "    err = 2*eps\n",
    "    ERR = []\n",
    "    i = 0\n",
    "    while npl.norm(X-X_past)/npl.norm(X) > eps and i<20000:\n",
    "        X_past = X\n",
    "        X = G_hat(X,h,p,function,eps)\n",
    "        i+=1\n",
    "        ERR += [npl.norm(X - X_past)/npl.norm(X)]\n",
    "    print(\"Nombre d'itérations finales : \",i)\n",
    "    #print(\"Erreur Newton-Raphson : \", ERR[-1])\n",
    "    return X, ERR, i"
   ]
  },
  {
   "cell_type": "markdown",
   "metadata": {},
   "source": [
    "### Création des points d'interpolation = Lukacs"
   ]
  },
  {
   "cell_type": "code",
   "execution_count": 13,
   "metadata": {},
   "outputs": [],
   "source": [
    "def polynom(x, a, b):\n",
    "    sol = x*(a**2) +(1-x)*(b**2)\n",
    "    return sol"
   ]
  },
  {
   "cell_type": "markdown",
   "metadata": {},
   "source": [
    "### Affichage du polynome"
   ]
  },
  {
   "cell_type": "code",
   "execution_count": 14,
   "metadata": {},
   "outputs": [],
   "source": [
    "def polynom_display(xn,poln, x, pol,h, real_func):\n",
    "    x0 = np.linspace(0,1,100)\n",
    "    \n",
    "    plt.figure()\n",
    "    plt.plot(x, pol, '-b')\n",
    "    plt.plot(xn,poln, 'ob', label =\"Points d'interpolation\")\n",
    "    plt.plot(x0, real_func(x0,h), '-r', label = \"Fonction à interpoler\")\n",
    "    plt.legend()\n",
    "    plt.show()   "
   ]
  },
  {
   "cell_type": "code",
   "execution_count": 15,
   "metadata": {},
   "outputs": [],
   "source": [
    "def polynom_display2(xn,pol,h, real_func):\n",
    "    x0 = np.linspace(0,1,100)\n",
    "    \n",
    "    plt.plot(xn,pol, 'ob', label =\"Points d'interpolation\")\n",
    "    plt.plot(x0, real_func(x0,h), '-r', label = \"Fonction à interpoler\")\n",
    "    plt.title(\"Interpolation de la fonction\")"
   ]
  },
  {
   "cell_type": "markdown",
   "metadata": {},
   "source": [
    "### Interpolation par un polynome"
   ]
  },
  {
   "cell_type": "code",
   "execution_count": 16,
   "metadata": {},
   "outputs": [],
   "source": [
    "def interpol(p,h,function, eps=1e-3) :\n",
    "    X, ERR, nit = Newton_Raphson(p, h, function, eps)\n",
    "    X = np.concatenate((X[:p], [[1]], [[0]], X[p:]))\n",
    "    \n",
    "    xn = np.zeros((p+1,1))\n",
    "    xn[:,0] = np.linspace(0,1,p+1)\n",
    "    \n",
    "    ar = X[:p+1]\n",
    "    br = X[p+1:]\n",
    "    \n",
    "    A = a(xn, ar, h, p, function,eps )\n",
    "    B = b(xn, br, h, p, function,eps )\n",
    "    poln = polynom(xn, A, B)\n",
    "\n",
    "    x = np.linspace(0,1,300)\n",
    "    A_pol = a(x, ar, h, p ,function, eps)\n",
    "    B_pol = b(x, br, h, p ,function, eps)\n",
    "    pol = polynom(x, A_pol, B_pol)\n",
    "\n",
    "    \n",
    "    return poln, xn, ERR, pol, x, nit "
   ]
  },
  {
   "cell_type": "code",
   "execution_count": 17,
   "metadata": {},
   "outputs": [],
   "source": [
    "def erreur(xn, poln, function, h) : \n",
    "    f = function(xn, h)\n",
    "    dif = np.abs(f - poln)\n",
    "    n = np.shape(dif)[0]\n",
    "    dif = np.reshape(dif, (n))\n",
    "    xn = np.reshape(xn, (n))\n",
    "    som = 0\n",
    "    for i in range(n-1) : \n",
    "        som += (xn[i+1]-xn[i]) * (dif[i+1]+dif[i]) / 2\n",
    "    return som "
   ]
  },
  {
   "cell_type": "code",
   "execution_count": 18,
   "metadata": {},
   "outputs": [],
   "source": [
    "def find_order(x, err) :\n",
    "    return (log10(err[-1])-log10(err[0])) /  (log10(x[-1])-log10(x[0]))"
   ]
  }
 ],
 "metadata": {
  "kernelspec": {
   "display_name": "Python 3",
   "language": "python",
   "name": "python3"
  },
  "language_info": {
   "codemirror_mode": {
    "name": "ipython",
    "version": 3
   },
   "file_extension": ".py",
   "mimetype": "text/x-python",
   "name": "python",
   "nbconvert_exporter": "python",
   "pygments_lexer": "ipython3",
   "version": "3.7.6"
  }
 },
 "nbformat": 4,
 "nbformat_minor": 4
}
