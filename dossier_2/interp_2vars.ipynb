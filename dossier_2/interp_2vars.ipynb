{
 "cells": [
  {
   "cell_type": "code",
   "execution_count": 2,
   "metadata": {},
   "outputs": [],
   "source": [
    "from math import *\n",
    "import numpy as np\n",
    "import numpy.linalg as npl\n",
    "import matplotlib.pyplot as plt\n",
    "\n",
    "import import_ipynb\n",
    "from interp_1var import *"
   ]
  },
  {
   "cell_type": "markdown",
   "metadata": {},
   "source": [
    "## Fonctions permettant l'interpolation de fonctions à 2 variables x et t"
   ]
  },
  {
   "cell_type": "code",
   "execution_count": 3,
   "metadata": {},
   "outputs": [],
   "source": [
    "def Jacobian_X0_t(p, h, x, function, eps, t) : \n",
    "    f = function(x, h, t)\n",
    "    f_max = np.max(f)\n",
    "    f_eps = max(f_max, eps)\n",
    "    I = np.zeros(2*p)\n",
    "\n",
    "    I[:p] = b_prime_alpha(p)\n",
    "    I[p:] = a_prime_beta(p)\n",
    "  \n",
    "    return np.sqrt(f_eps)*np.diag(I)"
   ]
  },
  {
   "cell_type": "code",
   "execution_count": 15,
   "metadata": {},
   "outputs": [],
   "source": [
    "def a_t(x, alpha, h, p, function, eps, t):\n",
    "    res = 0\n",
    "    for i in range(p+1):\n",
    "        som = (-1)**(i+p)* np.sqrt(max(function(alpha[i], h, t),eps) / alpha[i])\n",
    "        mul = 1 \n",
    "        for j in range(p+1) :\n",
    "            if i != j :\n",
    "                mul = mul * ((x - alpha[j]) / (alpha[i] - alpha[j])) \n",
    "        som  =  som* mul\n",
    "        res += som\n",
    "    return res"
   ]
  },
  {
   "cell_type": "code",
   "execution_count": 16,
   "metadata": {},
   "outputs": [],
   "source": [
    "def b_t(x, beta, h, p, function, eps, t):\n",
    "    res = 0\n",
    "    for i in range(p+1) :\n",
    "        som = (-1)**(i+p) * sqrt(max(function(beta[i], h, t), eps) / ( 1 - beta[i]))\n",
    "        mul = 1 \n",
    "        for j in range(p+1) : \n",
    "            if i != j :\n",
    "                mul = mul * ((x - beta[j]) / (beta[i] - beta[j]))\n",
    "        som = som* mul\n",
    "        res += som\n",
    "    return res"
   ]
  },
  {
   "cell_type": "code",
   "execution_count": 17,
   "metadata": {},
   "outputs": [],
   "source": [
    "def teta_teta_t(x, h, p, function, eps, t) : \n",
    "    teta = np.zeros((2*p,1))\n",
    "    alpha = x[:p]\n",
    "    alpha_new = np.concatenate(( alpha, [[1]]))\n",
    "    beta = x[p:]\n",
    "    beta_new = np.concatenate(([[0]],beta))\n",
    "    \n",
    "    teta[p:] = a_t(beta, alpha_new, h, p, function, eps, t)\n",
    "    teta[:p] = b_t(alpha, beta_new, h, p, function, eps, t)\n",
    "    return teta "
   ]
  },
  {
   "cell_type": "code",
   "execution_count": 18,
   "metadata": {},
   "outputs": [],
   "source": [
    "def G_hat_t(x, h, p, function, eps, t) : \n",
    "    J = Jacobian_X0_t(p, h, x, function, eps, t)\n",
    "    tet = teta_teta_t(x, h, p, function,eps, t)\n",
    "    d = npl.solve(J,tet)\n",
    "    return x - d"
   ]
  },
  {
   "cell_type": "code",
   "execution_count": 19,
   "metadata": {},
   "outputs": [],
   "source": [
    "def Newton_Raphson_t(p, h, function, t, eps=1e-3)  :\n",
    "    X0 = start_point(p)\n",
    "    X = np.concatenate((X0[:p], X0[p+2:]))\n",
    "    X_past = X + 2*eps\n",
    "    err = 2*eps\n",
    "    ERR = []\n",
    "    i = 0\n",
    "    while npl.norm(X-X_past)/npl.norm(X) > eps and i<20000:\n",
    "        X_past = X\n",
    "        X = G_hat_t(X, h, p, function, eps, t)\n",
    "        i+=1\n",
    "        ERR += [npl.norm(X - X_past)/npl.norm(X)]\n",
    "    #print(\"Erreur Newton-Raphson : \", ERR[-1])\n",
    "    return X, ERR, i"
   ]
  },
  {
   "cell_type": "code",
   "execution_count": 9,
   "metadata": {},
   "outputs": [],
   "source": [
    "def interpol_t(p,h,function, t, eps=1e-12) :\n",
    "    X, ERR, nit = Newton_Raphson_t(p, h, function, t, eps)\n",
    "    X = np.concatenate((X[:p], [[1]], [[0]], X[p:]))\n",
    "    \n",
    "    xn = np.zeros((p+1,1))\n",
    "    xn[:,0] = np.linspace(0,1,p+1)\n",
    "    \n",
    "    ar = X[:p+1]\n",
    "    br = X[p+1:]\n",
    "    \n",
    "    A = a_t(xn, ar, h, p, function, eps, t)\n",
    "    B = b_t(xn, br, h, p, function, eps, t)\n",
    "    poln = polynom(xn, A, B)\n",
    "\n",
    "    x = np.linspace(0,1,300)\n",
    "    A_pol = a_t(x, ar, h, p ,function, eps, t)\n",
    "    B_pol = b_t(x, br, h, p ,function, eps, t)\n",
    "    pol = polynom(x, A_pol, B_pol)\n",
    "\n",
    "    \n",
    "    return poln, xn, ERR, pol, x, nit"
   ]
  },
  {
   "cell_type": "code",
   "execution_count": 10,
   "metadata": {},
   "outputs": [],
   "source": [
    "def polynom_display_t(xn,poln, x, pol,h, real_func, t):\n",
    "    x0 = np.linspace(0,1,100)\n",
    "    \n",
    "    plt.figure()\n",
    "    plt.plot(x, pol, '-b')\n",
    "    plt.plot(xn,poln, 'ob', label =\"Points d'interpolation\")\n",
    "    plt.plot(x0, real_func(x0,h, t), '-r', label = \"Fonction à interpoler\")\n",
    "    plt.legend()\n",
    "    plt.show()   "
   ]
  },
  {
   "cell_type": "code",
   "execution_count": 11,
   "metadata": {},
   "outputs": [],
   "source": [
    "def erreur_t(xn, poln, function, h, t) : \n",
    "    f = function(xn, h, t)\n",
    "    dif = np.abs(f - poln)\n",
    "    n = np.shape(dif)[0]\n",
    "    dif = np.reshape(dif, (n))\n",
    "    xn = np.reshape(xn, (n))\n",
    "    som = 0\n",
    "    for i in range(n-1) : \n",
    "        som += (xn[i+1]-xn[i]) * (dif[i+1]+dif[i]) / 2\n",
    "    return som "
   ]
  },
  {
   "cell_type": "markdown",
   "metadata": {},
   "source": [
    "## Interpolation avec points initiaux différents"
   ]
  },
  {
   "cell_type": "code",
   "execution_count": 12,
   "metadata": {},
   "outputs": [],
   "source": [
    "def Newton_Raphson_pts_init_t(p, h, function, X0, t, eps=1e-12)  :\n",
    "    print(X0)\n",
    "    X = np.concatenate((X0[:p], X0[p+2:]))\n",
    "    X_past = X + 2*eps\n",
    "    err = 2*eps\n",
    "    ERR = []\n",
    "    i = 0\n",
    "    while npl.norm(X-X_past)/npl.norm(X) > eps and i<20000:\n",
    "        X_past = X\n",
    "        X = G_hat_t(X,h,p,function,eps,t)\n",
    "        i+=1\n",
    "        ERR += [npl.norm(X - X_past)/npl.norm(X)]\n",
    "    print(\"Nombre d'itérations finales : \",i)\n",
    "    #print(\"Erreur Newton-Raphson : \", ERR[-1])\n",
    "    return X, ERR"
   ]
  },
  {
   "cell_type": "code",
   "execution_count": 13,
   "metadata": {},
   "outputs": [],
   "source": [
    "def interpol_pts_init_t(p, h, function, X0, t, eps=1e-12) :\n",
    "    X, ERR = Newton_Raphson_pts_init_t(p, h, function, X0, t, eps)\n",
    "    X = np.concatenate((X[:p], [[1]], [[0]], X[p:]))\n",
    "    \n",
    "    xn = np.zeros((p+1,1))\n",
    "    xn[:,0] = np.linspace(0,1,p+1)\n",
    "    \n",
    "    ar = X[:p+1]\n",
    "    br = X[p+1:]\n",
    "    \n",
    "    A = a(xn, ar, h, p, function,eps )\n",
    "    B = b(xn, br, h, p, function,eps )\n",
    "    poln = polynom(xn, A, B)\n",
    "\n",
    "    x = np.linspace(0,1,300)\n",
    "    A_pol = a(x, ar, h, p ,function, eps)\n",
    "    B_pol = b(x, br, h, p ,function, eps)\n",
    "    pol = polynom(x, A_pol, B_pol)\n",
    "\n",
    "    \n",
    "    return poln, xn, ERR, pol, x"
   ]
  },
  {
   "cell_type": "code",
   "execution_count": null,
   "metadata": {},
   "outputs": [],
   "source": []
  },
  {
   "cell_type": "code",
   "execution_count": null,
   "metadata": {},
   "outputs": [],
   "source": []
  }
 ],
 "metadata": {
  "kernelspec": {
   "display_name": "Python 3",
   "language": "python",
   "name": "python3"
  },
  "language_info": {
   "codemirror_mode": {
    "name": "ipython",
    "version": 3
   },
   "file_extension": ".py",
   "mimetype": "text/x-python",
   "name": "python",
   "nbconvert_exporter": "python",
   "pygments_lexer": "ipython3",
   "version": "3.7.6"
  }
 },
 "nbformat": 4,
 "nbformat_minor": 4
}
