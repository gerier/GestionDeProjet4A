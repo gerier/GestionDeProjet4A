{
 "cells": [
  {
   "cell_type": "code",
   "execution_count": 1,
   "metadata": {},
   "outputs": [
    {
     "name": "stdout",
     "output_type": "stream",
     "text": [
      "importing Jupyter notebook from Polynome2p1.ipynb\n",
      "importing Jupyter notebook from Fonctions_Test.ipynb\n"
     ]
    }
   ],
   "source": [
    "import numpy as np\n",
    "import numpy.linalg as npl\n",
    "import matplotlib.pyplot as plt\n",
    "import scipy.sparse as sps\n",
    "import scipy.optimize as sco\n",
    "\n",
    "import import_ipynb\n",
    "from Polynome2p1 import init_X\n",
    "from Polynome2p1 import S\n",
    "from Polynome2p1 import trapezes\n",
    "from Polynome2p1 import epsi_S\n",
    "from Polynome2p1 import affichage_residus"
   ]
  },
  {
   "cell_type": "markdown",
   "metadata": {},
   "source": [
    "# Polynome de degré $n = 2p + 1$ "
   ]
  },
  {
   "cell_type": "markdown",
   "metadata": {},
   "source": [
    "# Algorithme"
   ]
  },
  {
   "cell_type": "code",
   "execution_count": 2,
   "metadata": {},
   "outputs": [],
   "source": [
    "def Jp(p,f,h,argf,X,epsilon):\n",
    "    # calcule la jacobienne\n",
    "    i = np.linspace(0,p-1,p)\n",
    "    theta_i = 2*(p-i)*np.pi/(2*p+1)\n",
    "    D_alpha = 2*p*np.cos(p*theta_i)/(np.cos(theta_i)-1) + np.sin(p*theta_i)/np.sin(theta_i) * 2 * (p - 1/(np.cos(theta_i)-1))\n",
    "    \n",
    "    i = np.linspace(1,p,p)\n",
    "    eta_i = (2*(p-i)+1)*np.pi/(2*p+1)\n",
    "    D_beta = 2*p*np.cos(p*eta_i)/(np.cos(eta_i)+1) + np.sin(p*eta_i)/np.sin(eta_i) * 2* (p + 1/(np.cos(eta_i)+1))\n",
    "\n",
    "    feps = max( np.max(f(X,h,*argf)),epsilon) #cf partie 4\n",
    "    return  np.sqrt(feps) * sps.diags(np.concatenate((D_alpha,D_beta))).toarray()\n",
    "\n",
    "def b_beta (p,f,h,argf,beta,x,epsilon):\n",
    "    # calcule la fonction b[beta] au point x\n",
    "    res = 0\n",
    "    for i in range (p+1):\n",
    "        somme = (-1)**(i+p)*np.sqrt(max(f(beta[i],h,*argf),epsilon)/(1-beta[i])) \n",
    "        pro = 1\n",
    "        for j in range (p+1):\n",
    "            if i != j :\n",
    "                pro *=  (x - beta[j])/(beta[i]-beta[j])\n",
    "        somme *= pro\n",
    "        res  += somme\n",
    "    return res\n",
    "  \n",
    "\n",
    "def a_alpha (p,f,h,argf,alpha,x,epsilon):\n",
    "    # calcule la fonction a[alpha] au point x\n",
    "    res = 0\n",
    "    for i in range (p+1):\n",
    "        somme = (-1)**(i+p)*np.sqrt(max(f(alpha[i],h,*argf),epsilon)/(alpha[i])) \n",
    "        pro = 1\n",
    "        for j in range (p+1):\n",
    "            if i != j :\n",
    "                pro *=  (x - alpha[j])/(alpha[i]-alpha[j])\n",
    "        somme *= pro\n",
    "        res += somme\n",
    "    return res\n",
    "     \n",
    "def f_theta(X,p,f,h,argf,epsilon):\n",
    "    # fonction à minimiser - [a[alpha](beta), b[beta](alpha)]\n",
    "    alpha = X[:p]\n",
    "    alpha_1 = np.concatenate((alpha,[1]))\n",
    "    beta = X[p:]\n",
    "    beta_0 = np.concatenate(([0],beta))\n",
    "    return np.concatenate(( b_beta(p,f,h,argf,beta_0,alpha,epsilon), a_alpha(p,f,h,argf,alpha_1,beta,epsilon) ))"
   ]
  },
  {
   "cell_type": "code",
   "execution_count": 3,
   "metadata": {},
   "outputs": [],
   "source": [
    "def Newton_Raphson (X0,p,f,h,argf,epsilon,s=None,eps=1e-12,itermax=500):\n",
    "    # reconstruit le polynome le plus interpolant\n",
    "    epsi = epsi_S(p)\n",
    "    #initialisation\n",
    "    X = np.copy(X0)\n",
    "    X = np.concatenate((X[:p],X[p+2:]))\n",
    "    k=0\n",
    "    err=2*eps\n",
    "    Residus = []\n",
    "    \n",
    "    while err > eps and itermax > k :\n",
    "        X0 = np.copy(X)\n",
    "        #print(f_theta(X,p,f,h,epsilon))\n",
    "        d = npl.solve(Jp(p,f,h,argf,X,epsilon),f_theta(X,p,f,h,argf,epsilon))\n",
    "        X = X - d\n",
    "        if s != None or s != 0 :\n",
    "            X = S(p,epsi,X)\n",
    "        #print(f_theta(X,p,f,h,epsilon))\n",
    "        k+=1\n",
    "        err = npl.norm(X-X0)/npl.norm(X0)\n",
    "        Residus += [err]\n",
    "\n",
    "    return X,k,Residus"
   ]
  },
  {
   "cell_type": "code",
   "execution_count": 4,
   "metadata": {},
   "outputs": [],
   "source": [
    "def pn(x,ap,bp): \n",
    "    #retourne le polynome à partir de la décompo de Lukas\n",
    "    return x * ap**2 + (1-x) * bp**2\n",
    "    \n",
    "def approxh(x,p,f,h,argf,epsilon,init=None,s=None,ResidusNewton=None):\n",
    "    #X = sco.fsolve(f_theta,np.array([1/4,3/4]), args=(p,f,h,epsilon))\n",
    "    #X = S(p,epsi,X)\n",
    "    if init is not None : \n",
    "        if isinstance(init,np.ndarray):\n",
    "            X0 = init\n",
    "        else : \n",
    "            X0 = init(p)\n",
    "    else :\n",
    "        X0 = init_X(p)\n",
    "    X,itermax,residus = Newton_Raphson(X0,p,f,h,argf,epsilon,s)\n",
    "    if ResidusNewton is not None and ResidusNewton != 0:\n",
    "        affichage_residus(residus,p,f,h,epsilon)\n",
    "    X  = np.concatenate(( X[:p],[1],[0],X[p:]))\n",
    "\n",
    "    ap = a_alpha(p,f,h,argf,X[:p+1],x,epsilon)\n",
    "    bp = b_beta(p,f,h,argf,X[p+1:],x,epsilon)\n",
    "    \n",
    "    return pn(x,ap,bp),[X,a_alpha,b_beta],itermax"
   ]
  },
  {
   "cell_type": "code",
   "execution_count": null,
   "metadata": {},
   "outputs": [],
   "source": []
  }
 ],
 "metadata": {
  "kernelspec": {
   "display_name": "Python 3",
   "language": "python",
   "name": "python3"
  },
  "language_info": {
   "codemirror_mode": {
    "name": "ipython",
    "version": 3
   },
   "file_extension": ".py",
   "mimetype": "text/x-python",
   "name": "python",
   "nbconvert_exporter": "python",
   "pygments_lexer": "ipython3",
   "version": "3.6.4"
  },
  "latex_envs": {
   "LaTeX_envs_menu_present": true,
   "autoclose": false,
   "autocomplete": true,
   "bibliofile": "biblio.bib",
   "cite_by": "apalike",
   "current_citInitial": 1,
   "eqLabelWithNumbers": true,
   "eqNumInitial": 1,
   "hotkeys": {
    "equation": "Ctrl-E",
    "itemize": "Ctrl-I"
   },
   "labels_anchors": false,
   "latex_user_defs": false,
   "report_style_numbering": false,
   "user_envs_cfg": false
  }
 },
 "nbformat": 4,
 "nbformat_minor": 2
}
