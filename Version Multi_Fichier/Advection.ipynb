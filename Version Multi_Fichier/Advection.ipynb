{
 "cells": [
  {
   "cell_type": "code",
   "execution_count": 2,
   "metadata": {},
   "outputs": [
    {
     "name": "stdout",
     "output_type": "stream",
     "text": [
      "importing Jupyter notebook from Polynome2p1_avecArgumentsF.ipynb\n",
      "importing Jupyter notebook from Polynome2p1.ipynb\n",
      "importing Jupyter notebook from Fonctions_Test.ipynb\n"
     ]
    }
   ],
   "source": [
    "import numpy as np\n",
    "import numpy.linalg as npl\n",
    "import scipy.interpolate as scpi\n",
    "import matplotlib.pyplot as plt\n",
    "\n",
    "import import_ipynb\n",
    "from Polynome2p1_avecArgumentsF import *\n",
    "import Fonctions_Test as FT"
   ]
  },
  {
   "cell_type": "code",
   "execution_count": 4,
   "metadata": {},
   "outputs": [],
   "source": [
    "# Schema \n",
    "def DF(U):\n",
    "    return U\n",
    "\n",
    "def EulerExp():\n",
    "    pass\n",
    "\n",
    "def DF_amont(U0,T,dt,dx,f,c,sigma):\n",
    "    J = int(1/dx) - 1\n",
    "    t = 0\n",
    "    U = np.copy(U0)\n",
    "    while t < T:\n",
    "        Taum = np.concatenate(([U[-1]],U[:-1]))\n",
    "        U = U - c*dt/dx * (U - Taum)\n",
    "        t += dt\n",
    "    return U\n"
   ]
  },
  {
   "cell_type": "code",
   "execution_count": 19,
   "metadata": {},
   "outputs": [],
   "source": [
    "# Traitement de la donnée initiale\n",
    "def gauss(x,h,deb,sigma):\n",
    "    x = (x+origin)*h\n",
    "    return np.exp(-((x-0.5)**2)/(2*sigma))/(np.sqrt(2*np.pi*sigma**2))\n",
    "\n",
    "def paquet(x,h,origin,sigma,k):\n",
    "    return gauss(x,h,origin,sigma)*np.sin(2*k*np.pi*x)\n",
    "\n",
    "def creneau(x,h,origin,start,end):\n",
    "    x = (x+origin)*h\n",
    "    return (x>start)*(x<end)\n",
    "\n",
    "def u0(x,h,origin):\n",
    "    x = (x+origin)*h\n",
    "    return np.cos(np.pi*x)**2+1"
   ]
  },
  {
   "cell_type": "code",
   "execution_count": null,
   "metadata": {},
   "outputs": [],
   "source": [
    "#Parametres du pb\n",
    "n_points = 100 + 1\n",
    "x = np.linspace(0,1,n_points)\n",
    "dx = 1/(n_points-1) \n",
    "CFL = 1/2\n",
    "dt = dx*CFL\n",
    "\n",
    "#Parametres interpolation\n",
    "p = 2\n",
    "f = u0\n",
    "h = \n",
    "argf = [0] \n",
    "\n",
    "px,fx =  approxh(x,p,f,h,argf,epsilon,init=None,s=1)"
   ]
  },
  {
   "cell_type": "code",
   "execution_count": null,
   "metadata": {},
   "outputs": [],
   "source": []
  },
  {
   "cell_type": "code",
   "execution_count": null,
   "metadata": {},
   "outputs": [],
   "source": []
  },
  {
   "cell_type": "code",
   "execution_count": 18,
   "metadata": {},
   "outputs": [
    {
     "data": {
      "text/plain": [
       "[<matplotlib.lines.Line2D at 0x261d6b0c470>]"
      ]
     },
     "execution_count": 18,
     "metadata": {},
     "output_type": "execute_result"
    },
    {
     "data": {
      "image/png": "[encoded data removed]",
      "text/plain": [
       "<matplotlib.figure.Figure at 0x261d6a9b240>"
      ]
     },
     "metadata": {},
     "output_type": "display_data"
    }
   ],
   "source": [
    "\n",
    "\n",
    "def u0(x,h,a):\n",
    "    x = (x+a)*h\n",
    "    return x+1\n",
    "\n",
    "x = np.linspace(0,1,10)\n",
    "h = 1/4\n",
    "a = 3\n",
    "plt.plot(x*h+a*h,affine(x,h,a))"
   ]
  }
 ],
 "metadata": {
  "kernelspec": {
   "display_name": "Python 3",
   "language": "python",
   "name": "python3"
  },
  "language_info": {
   "codemirror_mode": {
    "name": "ipython",
    "version": 3
   },
   "file_extension": ".py",
   "mimetype": "text/x-python",
   "name": "python",
   "nbconvert_exporter": "python",
   "pygments_lexer": "ipython3",
   "version": "3.6.4"
  }
 },
 "nbformat": 4,
 "nbformat_minor": 2
}
