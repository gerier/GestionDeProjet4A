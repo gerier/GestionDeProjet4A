{
 "cells": [
  {
   "cell_type": "code",
   "execution_count": 10,
   "metadata": {},
   "outputs": [],
   "source": [
    "import numpy as np\n",
    "import numpy.linalg as npl"
   ]
  },
  {
   "cell_type": "code",
   "execution_count": 11,
   "metadata": {},
   "outputs": [],
   "source": [
    "#Definition de fonctions test basiques\n",
    "def poly_320_h(x,h):\n",
    "    x = x*h\n",
    "    return 2*x**3 + x**2 + 2 \n",
    "def poly_30_h(x,h):\n",
    "    x = x*h\n",
    "    return x**3 + 2\n",
    "def cos_h(x,h):\n",
    "    x = x*h\n",
    "    return np.cos(x)\n",
    "def affine_h(x,h):\n",
    "    x = x*h\n",
    "    return x + 1"
   ]
  },
  {
   "cell_type": "code",
   "execution_count": 12,
   "metadata": {},
   "outputs": [],
   "source": [
    "#Definitions des fonctions de l'article\n",
    "def absolu_h_retard(x,h):\n",
    "    x = x*h - 0.5*h\n",
    "    return np.abs(x)\n",
    "def abs_poly_h_7(x,h):\n",
    "    x = x*h - 1/8\n",
    "    return np.abs(x**7) \n",
    "def poly_17_h(x,h):\n",
    "    x = x*h\n",
    "    return 2*x**17 + x**10 - x**2 + 2 # - 1.85\n",
    "def absolu_05_h(x,h):\n",
    "    x = x*h\n",
    "    return 0.5 + np.abs(x - 0.5) #- 0.75\n",
    "def inverse_h(x,h):\n",
    "    if h == 1 :\n",
    "        h = 9/10\n",
    "    x = x*h\n",
    "    return 1/(1-x) #-1.5\n",
    "def Runge_h(x,h):\n",
    "    x = x*h\n",
    "    return 1/ ( 1 + 25*(2*x-1)**2 ) #- 1\n",
    "def Prod_poly_10_7_h(x,h):\n",
    "    x = x*h\n",
    "    return 10**5 * x**10 * (1-x)**7 + 0.01\n",
    "def poly_4_h(x,h):\n",
    "    x = x*h\n",
    "    return 10 * (x-1/2)**4 #+ 0.01\n",
    "def creneau_h(x,h):\n",
    "    x = x*h\n",
    "    return (x<0.2*h)*0 + (x>0.8*h)*0 + (0.2*h<=x)*1 + (x<=0.8*h)*1\n",
    "def sin_offset_h(x,h):\n",
    "    x = x*h\n",
    "    return np.sin(x)+1.2\n",
    "def gaussienne_h(x,h):\n",
    "    x = x*h\n",
    "    m = 1/2\n",
    "    sigma = 1/10\n",
    "    return np.exp(-(x-m)**2/2/sigma**2) / (2*np.pi)/sigma\n",
    "def gaussienne2_h(x,h):\n",
    "    x = x*h\n",
    "    m = 1/2 * h\n",
    "    sigma = 1/1000\n",
    "    return np.exp(-(x-m)**2/2/sigma**2) / (2*np.pi)/sigma"
   ]
  },
  {
   "cell_type": "code",
   "execution_count": 13,
   "metadata": {},
   "outputs": [],
   "source": [
    "#Definition de fonctions avec arguments supplémentaires\n",
    "def gaussienne_h_sigma(x,h,sigma):\n",
    "    x = x*h\n",
    "    m = 1/2\n",
    "    #sigma = 1/10\n",
    "    return np.exp(-(x-m)**2/2/sigma**2) / (2*np.pi)/sigma\n",
    "def poly_4_h_lambda(x,h,l):\n",
    "    x = x*h\n",
    "    return 10 * (x-1/2)**4 + l"
   ]
  },
  {
   "cell_type": "code",
   "execution_count": 14,
   "metadata": {},
   "outputs": [],
   "source": [
    "def fonctions(argv,argv1=None):\n",
    "    # Definition des fonctions ayant que x et h comme arguments\n",
    "    if argv == \"Sans Arg\" :\n",
    "        #Definitions des fonctions de l'article\n",
    "        if argv1 is None or argv1 != \"Classic\" :         \n",
    "            return [poly_17_h, absolu_05_h, inverse_h, Runge_h,Prod_poly_10_7_h,\\\n",
    "                    poly_4_h, creneau_h, sin_offset_h, gaussienne_h, gaussienne2_h]\n",
    "        \n",
    "        else :\n",
    "            #Definition de fonctions test basiques\n",
    "            return [poly_320_h,poly_30_h,cos_h,affine_h]\n",
    "    \n",
    "    #Definition de fonctions avec arguments supplémentaires\n",
    "    else :\n",
    "        return [gaussienne_h_sigma, poly_4_h_lambda]"
   ]
  },
  {
   "cell_type": "code",
   "execution_count": 15,
   "metadata": {},
   "outputs": [],
   "source": [
    "def fonctions_etude_S():\n",
    "    return [absolu_h_retard, abs_poly_h_7,gaussienne_h]"
   ]
  }
 ],
 "metadata": {
  "kernelspec": {
   "display_name": "Python 3",
   "language": "python",
   "name": "python3"
  },
  "language_info": {
   "codemirror_mode": {
    "name": "ipython",
    "version": 3
   },
   "file_extension": ".py",
   "mimetype": "text/x-python",
   "name": "python",
   "nbconvert_exporter": "python",
   "pygments_lexer": "ipython3",
   "version": "3.6.4"
  },
  "latex_envs": {
   "LaTeX_envs_menu_present": true,
   "autoclose": false,
   "autocomplete": true,
   "bibliofile": "biblio.bib",
   "cite_by": "apalike",
   "current_citInitial": 1,
   "eqLabelWithNumbers": true,
   "eqNumInitial": 1,
   "hotkeys": {
    "equation": "Ctrl-E",
    "itemize": "Ctrl-I"
   },
   "labels_anchors": false,
   "latex_user_defs": false,
   "report_style_numbering": false,
   "user_envs_cfg": false
  }
 },
 "nbformat": 4,
 "nbformat_minor": 2
}
