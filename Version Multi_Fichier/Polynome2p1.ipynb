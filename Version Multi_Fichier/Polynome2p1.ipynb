{
 "cells": [
  {
   "cell_type": "code",
   "execution_count": 1,
   "metadata": {},
   "outputs": [
    {
     "name": "stdout",
     "output_type": "stream",
     "text": [
      "importing Jupyter notebook from Fonctions_Test.ipynb\n"
     ]
    }
   ],
   "source": [
    "import numpy as np\n",
    "import numpy.linalg as npl\n",
    "import matplotlib.pyplot as plt\n",
    "import scipy.sparse as sps\n",
    "import scipy.optimize as sco\n",
    "\n",
    "import import_ipynb\n",
    "import Fonctions_Test as FT"
   ]
  },
  {
   "cell_type": "markdown",
   "metadata": {},
   "source": [
    "# Polynome de degré $n = 2p + 1$ "
   ]
  },
  {
   "cell_type": "markdown",
   "metadata": {},
   "source": [
    "## Initialisation"
   ]
  },
  {
   "cell_type": "code",
   "execution_count": 2,
   "metadata": {},
   "outputs": [],
   "source": [
    "def init_X(p):\n",
    "    # initialise les points alpha0 et beta0 (3.10) \n",
    "    i = np.linspace(0,p,p+1)\n",
    "    X = np.zeros(2*(p+1))\n",
    "    X[:p+1] = 1/2*(1-np.cos((2*i+1)*np.pi/(2*p+1)))\n",
    "    X[p+1:] = 1/2*(1-np.cos(2*i*np.pi/(2*p+1)))\n",
    "    return X"
   ]
  },
  {
   "cell_type": "markdown",
   "metadata": {},
   "source": [
    "## Operateur S"
   ]
  },
  {
   "cell_type": "code",
   "execution_count": 3,
   "metadata": {},
   "outputs": [],
   "source": [
    "def S (p,eps,X0):\n",
    "    # séparation en alpha et beta\n",
    "    alpha = X0[:p]\n",
    "    beta = X0[p:]\n",
    "\n",
    "    # creation des delta pour alpha et beta\n",
    "    delta_alpha = np.concatenate((alpha,[1]))\n",
    "    delta_alpha[1:] -= alpha\n",
    "    \n",
    "    delta_beta = - np.concatenate(([0],beta))\n",
    "    delta_beta[:-1] += beta\n",
    "    delta_beta[-1] += 1 \n",
    "    \n",
    "    # creation des delta_tilde pour alpha et beta\n",
    "    delta_alpha_t = np.zeros(p+1)\n",
    "    delta_beta_t = np.zeros(p+1)\n",
    "    for i in range (p+1):\n",
    "        delta_alpha_t[i] = max(delta_alpha[i],2*eps)\n",
    "        delta_beta_t[i] = max(delta_beta[i],2*eps)\n",
    "\n",
    "    delta_alpha_t = delta_alpha_t / np.sum(delta_alpha_t)\n",
    "    delta_beta_t = delta_beta_t / np.sum(delta_beta_t)\n",
    "\n",
    "    # mise a jour des alpha et beta, directement dans x\n",
    "    X = np.zeros(2*p)\n",
    "    X[0] = delta_alpha_t[0]\n",
    "    X[p] = delta_beta_t[0]\n",
    "    for i in range (1,p):\n",
    "        X[i] = X[i-1] + delta_alpha_t[i]\n",
    "        X[i+p] = X[i-1+p] + delta_beta_t[i]\n",
    "    \n",
    "    return X"
   ]
  },
  {
   "cell_type": "markdown",
   "metadata": {},
   "source": [
    "# Algorithme"
   ]
  },
  {
   "cell_type": "code",
   "execution_count": 4,
   "metadata": {},
   "outputs": [],
   "source": [
    "def Jp(p,f,h,X,epsilon):\n",
    "    # calcule la jacobienne\n",
    "    i = np.linspace(0,p-1,p)\n",
    "    theta_i = 2*(p-i)*np.pi/(2*p+1)\n",
    "    D_alpha = 2*p*np.cos(p*theta_i)/(np.cos(theta_i)-1) + np.sin(p*theta_i)/np.sin(theta_i) * 2 * (p - 1/(np.cos(theta_i)-1))\n",
    "    \n",
    "    i = np.linspace(1,p,p)\n",
    "    eta_i = (2*(p-i)+1)*np.pi/(2*p+1)\n",
    "    D_beta = 2*p*np.cos(p*eta_i)/(np.cos(eta_i)+1) + np.sin(p*eta_i)/np.sin(eta_i) * 2* (p + 1/(np.cos(eta_i)+1))\n",
    "    \n",
    "    feps = max( np.max(f(X,h)),epsilon) #cf partie 4\n",
    "    return  np.sqrt(feps) * sps.diags(np.concatenate((D_alpha,D_beta))).toarray()\n",
    "\n",
    "\n",
    "def b_beta (p,f,h,beta,x,epsilon):\n",
    "    # calcule la fonction b[beta] au point x\n",
    "    res = 0\n",
    "    for i in range (p+1):\n",
    "        somme = (-1)**(i+p)*np.sqrt(max(f(beta[i],h),epsilon)/(1-beta[i])) \n",
    "        pro = 1\n",
    "        for j in range (p+1):\n",
    "            if i != j :\n",
    "                pro *=  (x - beta[j])/(beta[i]-beta[j])\n",
    "        somme *= pro\n",
    "        res  += somme\n",
    "    return res\n",
    "  \n",
    "\n",
    "def a_alpha (p,f,h,alpha,x,epsilon):\n",
    "    # calcule la fonction a[alpha] au point x\n",
    "    res = 0\n",
    "    for i in range (p+1):\n",
    "        somme = (-1)**(i+p)*np.sqrt(max(f(alpha[i],h),epsilon)/(alpha[i])) \n",
    "        pro = 1\n",
    "        for j in range (p+1):\n",
    "            if i != j :\n",
    "                pro *=  (x - alpha[j])/(alpha[i]-alpha[j])\n",
    "        somme *= pro\n",
    "        res += somme\n",
    "    return res\n",
    "     \n",
    "    \n",
    "def f_theta(X,p,f,h,epsilon):\n",
    "    # fonction à minimiser - [a[alpha](beta), b[beta](alpha)]\n",
    "    alpha = X[:p]\n",
    "    alpha_1 = np.concatenate((alpha,[1]))\n",
    "    beta = X[p:]\n",
    "    beta_0 = np.concatenate(([0],beta))\n",
    "    return np.concatenate(( b_beta(p,f,h,beta_0,alpha,epsilon), a_alpha(p,f,h,alpha_1,beta,epsilon) ))"
   ]
  },
  {
   "cell_type": "code",
   "execution_count": 5,
   "metadata": {},
   "outputs": [],
   "source": [
    "def pn(x,ap,bp): \n",
    "    #retourne le polynome à partir de la décompo de Lukas\n",
    "    return x * ap**2 + (1-x) * bp**2"
   ]
  },
  {
   "cell_type": "code",
   "execution_count": 6,
   "metadata": {},
   "outputs": [],
   "source": [
    "def epsi_S(p):\n",
    "    #permet de calculer le epsilon propre à l'opérateur Séparateur\n",
    "    i = np.linspace(0,2*p+1,2*p+2)\n",
    "    gamma = 1/2*(1-np.cos(i*np.pi/(2*p+1)))\n",
    "    return min( 1/2/(p+1), np.min((gamma[1:]-gamma[:-1])/3))/2\n",
    "\n",
    "def Newton_Raphson (X0,p,f,h,epsilon,s=None,eps=1e-12,itermax=100):\n",
    "    # reconstruit le polynome le plus interpolant\n",
    "    epsi = epsi_S(p)\n",
    "    #initialisation\n",
    "    Xjac = np.copy(X0) \n",
    "    Xjac = np.concatenate((Xjac[:p],Xjac[p+2:]))\n",
    "    X = np.copy(Xjac)\n",
    "    k=0\n",
    "    err=2*eps\n",
    "    err2 = 2*eps\n",
    "    Residus = []\n",
    "\n",
    "    while itermax > k and err > eps and err2 > eps :\n",
    "        #print(f_theta(X,p,f,h,epsilon))\n",
    "        #print(\"Cond : \", npl.cond(Jp(p,f,h,X,epsilon)),X)\n",
    "        d = npl.solve(Jp(p,f,h,X,epsilon),f_theta(X,p,f,h,epsilon))\n",
    "        X = X - d\n",
    "        if s != None and s != 0 :\n",
    "            X = S(p,epsi,X)\n",
    "        #print(f_theta(X,p,f,h,epsilon))\n",
    "        k+=1\n",
    "        X_test = np.concatenate(( X[:p],[1],[0],X[p:]))\n",
    "        fx = f(X_test,h)\n",
    "        ap = a_alpha(p,f,h,X_test[:p+1],X_test,epsilon)\n",
    "        bp = b_beta(p,f,h,X_test[p+1:],X_test,epsilon)\n",
    "        px = pn(X_test,ap,bp)\n",
    "        err = npl.norm(fx-px)/npl.norm(fx) \n",
    "        err2 = npl.norm(X-Xjac)/npl.norm(Xjac)\n",
    "        Residus += [err]\n",
    "        if np.any(1<=X) or np.any(X<=0):\n",
    "            raise ValueError\n",
    "            \n",
    "    return X,k,Residus\n",
    "\n",
    "\n",
    "def affichage_residus(residus,p,f,h,epsilon):\n",
    "    plt.figure(0,figsize=(20,5))\n",
    "    plt.subplot(1,2,1)\n",
    "    plt.plot(residus)\n",
    "    name = str(f).split(' ')[1]\n",
    "    plt.title(\"Résidus Newton - Fonction \"+name+\", p = \"+str(p)+\", h = \"+str(h)+\", epsilon = \"+str(epsilon))\n",
    "    plt.subplot(1,2,2)\n",
    "    plt.loglog(residus)\n",
    "    name = str(f).split(' ')[1]\n",
    "    plt.title(\"Log Residus Newton - Fonction \"+name+\", p = \"+str(p)+\", h = \"+str(h)+\", epsilon = \"+str(epsilon))\n",
    "    plt.show()"
   ]
  },
  {
   "cell_type": "code",
   "execution_count": 7,
   "metadata": {},
   "outputs": [],
   "source": [
    "def approxh(x,p,f,h,epsilon,init=None,s=None,ResidusNewton=None):\n",
    "    #X = sco.fsolve(f_theta,np.array([1/4,3/4]), args=(p,f,h,epsilon))\n",
    "    #X = S(p,epsi,X)\n",
    "    if init is not None and isinstance(init,type(init_X)) : \n",
    "        X0 = init(p)\n",
    "    else :\n",
    "        X0 = init_X(p)\n",
    "    X,itermax,residus = Newton_Raphson(X0,p,f,h,epsilon,s)\n",
    "    if ResidusNewton is not None and ResidusNewton != 0:\n",
    "        print(\"Nb iter : \\n\",len(residus))\n",
    "        print(\"Residus :\\n\",residus[-1])\n",
    "        if ResidusNewton == 2 : \n",
    "            affichage_residus(residus,p,f,h,epsilon)\n",
    "\n",
    "    X  = np.concatenate(( X[:p],[1],[0],X[p:]))\n",
    "\n",
    "    ap = a_alpha(p,f,h,X[:p+1],x,epsilon)\n",
    "    bp = b_beta(p,f,h,X[p+1:],x,epsilon)\n",
    "    \n",
    "    return pn(x,ap,bp),[X,a_alpha,b_beta],itermax"
   ]
  },
  {
   "cell_type": "markdown",
   "metadata": {},
   "source": [
    "### Erreur par les trapèzes"
   ]
  },
  {
   "cell_type": "code",
   "execution_count": 8,
   "metadata": {},
   "outputs": [],
   "source": [
    "def trapezes(fx,h=None,x=None):\n",
    "    res = 0\n",
    "    fx = fx**2\n",
    "    if x is None :\n",
    "        x = h*np.linspace(0,1,len(fx))\n",
    "    for i in range (len(x)-1):\n",
    "        res += np.abs( (x[i+1]-x[i]) * (fx[i+1]+fx[i])/2 ) \n",
    "    return np.sqrt(res)"
   ]
  },
  {
   "cell_type": "code",
   "execution_count": null,
   "metadata": {},
   "outputs": [],
   "source": []
  }
 ],
 "metadata": {
  "kernelspec": {
   "display_name": "Python 3",
   "language": "python",
   "name": "python3"
  },
  "language_info": {
   "codemirror_mode": {
    "name": "ipython",
    "version": 3
   },
   "file_extension": ".py",
   "mimetype": "text/x-python",
   "name": "python",
   "nbconvert_exporter": "python",
   "pygments_lexer": "ipython3",
   "version": "3.6.4"
  },
  "latex_envs": {
   "LaTeX_envs_menu_present": true,
   "autoclose": false,
   "autocomplete": true,
   "bibliofile": "biblio.bib",
   "cite_by": "apalike",
   "current_citInitial": 1,
   "eqLabelWithNumbers": true,
   "eqNumInitial": 1,
   "hotkeys": {
    "equation": "Ctrl-E",
    "itemize": "Ctrl-I"
   },
   "labels_anchors": false,
   "latex_user_defs": false,
   "report_style_numbering": false,
   "user_envs_cfg": false
  }
 },
 "nbformat": 4,
 "nbformat_minor": 2
}
